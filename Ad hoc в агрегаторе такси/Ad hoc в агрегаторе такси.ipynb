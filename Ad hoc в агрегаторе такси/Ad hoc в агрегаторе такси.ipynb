{
 "cells": [
  {
   "cell_type": "markdown",
   "id": "b023a2e2",
   "metadata": {},
   "source": [
    "# Ad Hoh в Skytaxi\n"
   ]
  },
  {
   "cell_type": "code",
   "execution_count": 101,
   "id": "cbaeb563",
   "metadata": {},
   "outputs": [],
   "source": [
    "import pandas as pd\n",
    "import numpy as np\n",
    "import seaborn as sns\n",
    "import matplotlib.pyplot as plt\n",
    "import math\n",
    "\n",
    "import warnings\n",
    "warnings.filterwarnings('ignore')"
   ]
  },
  {
   "cell_type": "markdown",
   "id": "00cf7d58-824a-4b85-b9a2-b9e39de71291",
   "metadata": {},
   "source": [
    "## Задание 1\n",
    "Постройте график с количеством заказов по суточным часам (на оси Х — часы от 0 до 23). <br>\n",
    " На сколько за один час в среднем делается больше заказов в часы пик, чем в обычное время? (По всем городам вмест. <br>\n",
    "Рассмотрите города по отдельности: для каждого города выведите разницу в количестве заказов (среднечасовом) между часами пик и обычными часами. <br>\r",
    " В каком городе наблюдается наибольшее отклонение конверсии Order2Ride в часы пик по сравнению с обычными часами?)"
   ]
  },
  {
   "cell_type": "code",
   "execution_count": 103,
   "id": "3bcc288d-5f7b-4d40-acab-6fcefbbd85b3",
   "metadata": {},
   "outputs": [],
   "source": [
    "# Чтение и первичный анализ данных"
   ]
  },
  {
   "cell_type": "code",
   "execution_count": 104,
   "id": "7b83adc6",
   "metadata": {},
   "outputs": [],
   "source": [
    "DS = pd.read_csv('Data_Skytaxi.csv', sep=';')\n",
    "df_city = pd.read_csv('city_dict.csv', sep=';')\n",
    "df_tariff = pd.read_csv('tariff_dict.csv', sep=';')"
   ]
  },
  {
   "cell_type": "code",
   "execution_count": 105,
   "id": "2d04d384",
   "metadata": {},
   "outputs": [
    {
     "name": "stdout",
     "output_type": "stream",
     "text": [
      "<class 'pandas.core.frame.DataFrame'>\n",
      "RangeIndex: 10020 entries, 0 to 10019\n",
      "Data columns (total 7 columns):\n",
      " #   Column            Non-Null Count  Dtype \n",
      "---  ------            --------------  ----- \n",
      " 0   order_id          10020 non-null  int64 \n",
      " 1   id_tariff         10020 non-null  int64 \n",
      " 2   id_city           10020 non-null  int64 \n",
      " 3   order_time        10020 non-null  object\n",
      " 4   assign_time       6743 non-null   object\n",
      " 5   arrive_time       5345 non-null   object\n",
      " 6   ride_finish_time  4834 non-null   object\n",
      "dtypes: int64(3), object(4)\n",
      "memory usage: 548.1+ KB\n"
     ]
    }
   ],
   "source": [
    "DS.info()"
   ]
  },
  {
   "cell_type": "code",
   "execution_count": 106,
   "id": "1a7d7910-fcf7-45fa-9fc9-2c166328a1c5",
   "metadata": {},
   "outputs": [
    {
     "name": "stdout",
     "output_type": "stream",
     "text": [
      "<class 'pandas.core.frame.DataFrame'>\n",
      "RangeIndex: 9 entries, 0 to 8\n",
      "Data columns (total 2 columns):\n",
      " #   Column     Non-Null Count  Dtype \n",
      "---  ------     --------------  ----- \n",
      " 0   id_city    9 non-null      int64 \n",
      " 1   name_city  9 non-null      object\n",
      "dtypes: int64(1), object(1)\n",
      "memory usage: 276.0+ bytes\n"
     ]
    }
   ],
   "source": [
    "df_city.info()"
   ]
  },
  {
   "cell_type": "code",
   "execution_count": 107,
   "id": "b45bfabf-3195-47df-8713-ff13e0720feb",
   "metadata": {},
   "outputs": [
    {
     "name": "stdout",
     "output_type": "stream",
     "text": [
      "<class 'pandas.core.frame.DataFrame'>\n",
      "RangeIndex: 5 entries, 0 to 4\n",
      "Data columns (total 2 columns):\n",
      " #   Column       Non-Null Count  Dtype \n",
      "---  ------       --------------  ----- \n",
      " 0   id_tariff    5 non-null      int64 \n",
      " 1   name_tariff  5 non-null      object\n",
      "dtypes: int64(1), object(1)\n",
      "memory usage: 212.0+ bytes\n"
     ]
    }
   ],
   "source": [
    "df_tariff.info()"
   ]
  },
  {
   "cell_type": "code",
   "execution_count": 108,
   "id": "54228039",
   "metadata": {},
   "outputs": [],
   "source": [
    "# Объединяем таблицы \n",
    "DS = DS.merge(df_city, on = 'id_city')\n",
    "DS = DS.merge(df_tariff, on = 'id_tariff')"
   ]
  },
  {
   "cell_type": "code",
   "execution_count": null,
   "id": "dbd96ccd",
   "metadata": {},
   "outputs": [],
   "source": [
    "# Переводим даты к нужному формату\n",
    "for i in ['order_time', 'assign_time', 'arrive_time', 'ride_finish_time']:\n",
    "    DS[i] = DS[i].apply(pd.to_datetime)"
   ]
  },
  {
   "cell_type": "code",
   "execution_count": null,
   "id": "80d09edd",
   "metadata": {},
   "outputs": [],
   "source": [
    "# Добавляем в таблицу столбец с часами пик\n",
    "DS['hour'] = DS['order_time'].dt.hour\n",
    "DS['peak'] = np.where(DS['hour'].isin([7, 8, 9, 10, 17, 18, 19, 20]), 1, 0)"
   ]
  },
  {
   "cell_type": "code",
   "execution_count": null,
   "id": "fd73bdcf",
   "metadata": {},
   "outputs": [],
   "source": [
    "# Визуализируем кол-во заказов по часам \n",
    "DS_graph = DS.groupby(['hour']).count()['order_time'].reset_index()\n",
    "\n",
    "plt.figure(figsize=(16, 9))\n",
    "plt.grid()\n",
    "plt.title('Заказы по часам', size='24')\n",
    "plt.xlabel('Часы', size='18')\n",
    "plt.ylabel('Количество', size='18')\n",
    "plt.bar(DS_graph['hour'], DS_graph['order_time'])"
   ]
  },
  {
   "cell_type": "code",
   "execution_count": null,
   "id": "30417e53",
   "metadata": {},
   "outputs": [],
   "source": [
    "# Группируем кол-во заказов по часу пик\n",
    "# А так же кол-во заказов по городу и часу пик\n",
    "DS_gr = DS.groupby(['peak']).count()[['order_time']].reset_index()\n",
    "DS_gr_city = DS.groupby(['peak', 'name_city']).count()[['order_time']].reset_index()"
   ]
  },
  {
   "cell_type": "code",
   "execution_count": null,
   "id": "1f5e6cdc",
   "metadata": {},
   "outputs": [],
   "source": [
    "# Считаем среднее кол-во заказов обычных и в часы пик\n",
    "DS_gr['orders_by_hour'] = np.where(DS_gr['peak'] == 0, DS_gr['order_time'] / 16, DS_gr['order_time'] / 8)\n",
    "DS_gr_city['orders_by_hour'] = np.where(DS_gr_city['peak'] == 0, DS_gr_city['order_time'] / 16, DS_gr_city['order_time'] / 8)"
   ]
  },
  {
   "cell_type": "code",
   "execution_count": null,
   "id": "34b55abe-b2be-4614-b70a-95c8be0ad893",
   "metadata": {},
   "outputs": [],
   "source": [
    "# Считаем разницу между часами пик и обычными по кол-ву заказов в среднем \n",
    "Diff_cnt = DS_gr[(DS_gr['peak'] == 1)]['orders_by_hour'].item() - DS_gr[(DS_gr['peak'] == 0)]['orders_by_hour'].item()\n",
    "print('Разница по среднему кол-ву заказов на один час между обычными часами и часами пик', Diff_cnt)"
   ]
  },
  {
   "cell_type": "code",
   "execution_count": null,
   "id": "a6dbbb61-210d-4208-b577-71cfed507416",
   "metadata": {},
   "outputs": [],
   "source": [
    "# Создаем таблицу с городами\n",
    "DS_cities = pd.DataFrame({'city': DS_gr_city['name_city'].unique()})"
   ]
  },
  {
   "cell_type": "code",
   "execution_count": null,
   "id": "8540a4bf-5044-4568-8743-ee7148479bc2",
   "metadata": {},
   "outputs": [],
   "source": [
    "# Пишем функцию считающую разницу среднего кол-ва заказов в часы пик и обычными\n",
    "def diff(i):\n",
    "    return DS_gr_city[(DS_gr_city['peak'] == 1) & (DS_gr_city['name_city'] == i)]['orders_by_hour'].item() \\\n",
    "          - DS_gr_city[(DS_gr_city['peak'] == 0) & (DS_gr_city['name_city'] == i)]['orders_by_hour'].item()"
   ]
  },
  {
   "cell_type": "code",
   "execution_count": null,
   "id": "0108ef0b",
   "metadata": {},
   "outputs": [],
   "source": [
    "DS_cities['diff_hour'] = DS_cities['city'].map(diff)"
   ]
  },
  {
   "cell_type": "code",
   "execution_count": null,
   "id": "884675a2",
   "metadata": {},
   "outputs": [],
   "source": [
    "DS_cities.style.background_gradient(cmap='Blues', axis=0, subset=['diff_hour'])"
   ]
  },
  {
   "cell_type": "code",
   "execution_count": null,
   "id": "17bf55fc",
   "metadata": {},
   "outputs": [],
   "source": [
    "# Группируем таблицу, и считаем конверсию от заказа к завершению поездки\n",
    "df_o2r = DS.groupby(['peak', 'name_city']).count()[['order_time', 'ride_finish_time']].reset_index()\n",
    "df_o2r['o2r'] = df_o2r['ride_finish_time'] / df_o2r['order_time']"
   ]
  },
  {
   "cell_type": "code",
   "execution_count": null,
   "id": "ad10300b",
   "metadata": {},
   "outputs": [],
   "source": [
    "# Пишем функцию считающую разницу конверсии между заказами обычными и часами пик\n",
    "def diff_conv(i):\n",
    "    return abs(df_o2r[(df_o2r['peak'] == 1) & (df_o2r['name_city'] == i)]['o2r'].item() \\\n",
    "          - df_o2r[(df_o2r['peak'] == 0) & (df_o2r['name_city'] == i)]['o2r'].item())"
   ]
  },
  {
   "cell_type": "code",
   "execution_count": null,
   "id": "c95c2b3b",
   "metadata": {},
   "outputs": [],
   "source": [
    "DS_cities['diff_conver'] = DS_cities['city'].map(diff_conv)"
   ]
  },
  {
   "cell_type": "code",
   "execution_count": null,
   "id": "7b4c6ddf",
   "metadata": {},
   "outputs": [],
   "source": [
    "# Подсвечиваем наибольшую разницу в конверсии\n",
    "DS_cities.set_index('city') \\\n",
    "     .style.format('{:.3f}')\\\n",
    "     .background_gradient(cmap='Reds', axis=0, subset=['diff_hour'])\\\n",
    "     .highlight_max(color='red', axis=0, subset=['diff_conver'])"
   ]
  },
  {
   "cell_type": "markdown",
   "id": "6e3cee11-16ad-4385-9678-779279d4fc64",
   "metadata": {},
   "source": [
    "## Задание 2\n",
    "Изучите заказы в Хабаровске и Тюмени. Эти города интересуют менеджеров, так как в них наша компания начала работать относительно недавно. <br>\r\n",
    " На сколько процентных пунктов Order2Ride в среднем в них ниже, чем в других города <br> \n",
    "\r\n",
    " За счет какого звена воронки достигается эта разница? Сделайте выводы по Хабаровску и по Тюмени по отдельности."
   ]
  },
  {
   "cell_type": "code",
   "execution_count": null,
   "id": "7d924860",
   "metadata": {},
   "outputs": [],
   "source": [
    "# Отмечаем нужные города\n",
    "DS['new_city'] = np.where(DS['name_city'].isin(['Тюмень', 'Хабаровск']), DS['name_city'], 'Other')"
   ]
  },
  {
   "cell_type": "code",
   "execution_count": null,
   "id": "e3d1f3da",
   "metadata": {},
   "outputs": [],
   "source": [
    "# Группируем по ним кол-во заказов\n",
    "df_gr = DS.groupby('new_city').count()[['order_time', 'assign_time', 'arrive_time', 'ride_finish_time']].reset_index()"
   ]
  },
  {
   "cell_type": "code",
   "execution_count": null,
   "id": "33a85b3c",
   "metadata": {},
   "outputs": [],
   "source": [
    "# Создаем столбцы с цепочкой конверсий заказов \n",
    "df_gr['o2ass'] = df_gr['assign_time']      / df_gr['order_time'] # Звено конверсии от заказа к назначению водителя\n",
    "df_gr['ass2arr'] = df_gr['arrive_time']      / df_gr['assign_time'] # Звено конверсии от назначения к прибытию\n",
    "df_gr['arr2r'] = df_gr['ride_finish_time'] / df_gr['arrive_time'] # Звено конверсии от прибытия к завершению поезки \n",
    "df_gr['o2r']  = df_gr['ride_finish_time'] / df_gr['order_time'] # Общая конверсия от заказа к завершению поездки"
   ]
  },
  {
   "cell_type": "code",
   "execution_count": null,
   "id": "f4f51ca3-23e1-4b16-9f5c-a78be4c21aca",
   "metadata": {},
   "outputs": [],
   "source": [
    "#Считаем разницу в конверсии между новыми городами и остальными\n",
    "Tum = round((df_gr[df_gr['new_city'] == 'Other']['o2r'].item() - df_gr[df_gr['new_city'] == 'Тюмень']['o2r'].item()) * 100, 2)\n",
    "Hab = round((df_gr[df_gr['new_city'] == 'Other']['o2r'].item() - df_gr[df_gr['new_city'] == 'Хабаровск']['o2r'].item()) * 100, 2)"
   ]
  },
  {
   "cell_type": "code",
   "execution_count": null,
   "id": "3bdc0103-2747-4ae5-9aa2-0fbf5fcd4ba3",
   "metadata": {},
   "outputs": [],
   "source": [
    "print('Падение конверсии из заказа в поездку по отношению к другим городам', '\\n',\n",
    "        'В Тюмене - ', Tum, '%', '\\n',\n",
    "        'В Хабаровке -', Hab, '%')"
   ]
  },
  {
   "cell_type": "code",
   "execution_count": null,
   "id": "acfbcf95",
   "metadata": {},
   "outputs": [],
   "source": [
    "#выделим какие звенья в цепочке просидают\n",
    "df_gr[['new_city','o2ass','ass2arr','arr2r','o2r']].set_index('new_city') \\\n",
    "    .style.format('{:.2f}')\\\n",
    "    .highlight_min(color='red', axis=0, subset=['o2ass','ass2arr','arr2r','o2r'])"
   ]
  },
  {
   "cell_type": "markdown",
   "id": "e3e58937-621e-4254-a715-347bac0dcf59",
   "metadata": {},
   "source": [
    "В Тюмене очень сильное падение в последнем звене воронки, что то вынуждает клиентов часто отменять заказ после прибытия водителя. <br>\n",
    "В Хабаровске значительное падение в первом звене, мало назначений водителя. Скорее всего недостаточно машин."
   ]
  },
  {
   "cell_type": "markdown",
   "id": "2fac8778-57d2-4fe2-8601-2ef8d7bacdb8",
   "metadata": {},
   "source": [
    "## Задание 3\n",
    "К вам обратились коллеги из отдела антифрода (отдела, предотвращающего мошенничество). У них есть подозрение, что некоторые водители мимикрируют координаты, то есть на самом деле не приезжают в точку А своего заказа, но в приложение посылают сигнал, что они в эту точку А приехали. Таким образом они вынуждают клиента отменить заказ после «прибытия ими в точку А». <br>\n",
    "Постарайтесь локализовать данную проблему и выделить города, в которых такое происходит чаще всего."
   ]
  },
  {
   "cell_type": "code",
   "execution_count": null,
   "id": "c0217133",
   "metadata": {},
   "outputs": [],
   "source": [
    "# Группируем по городам кол-во заказаов только в последнем звене нашей воронки, конверсию от прибытия машины в поездку \n",
    "df_gr2 = DS.groupby(['name_city']).count()[['arrive_time', 'ride_finish_time']].reset_index()"
   ]
  },
  {
   "cell_type": "code",
   "execution_count": null,
   "id": "431b4d73",
   "metadata": {},
   "outputs": [],
   "source": [
    "# Считаем конверсию\n",
    "df_gr2['arr2r'] = df_gr2['ride_finish_time'] / df_gr2['arrive_time']"
   ]
  },
  {
   "cell_type": "code",
   "execution_count": null,
   "id": "02b1a1e4",
   "metadata": {},
   "outputs": [],
   "source": [
    "# И смотрим в каких городах данное звено просидает\n",
    "df_gr2.style.background_gradient(cmap='Blues', axis=0, subset='arr2r')"
   ]
  },
  {
   "cell_type": "markdown",
   "id": "d940b77d-82aa-44da-b8a1-938606bcdec0",
   "metadata": {},
   "source": [
    "Видим значительное падение на данном звене в городах Краснорярск и Тюмень.\n",
    "В этих городах водители чаще всего мошенничают с координатами прибытия в точку А."
   ]
  },
  {
   "cell_type": "markdown",
   "id": "524005f7-5b16-4d48-9196-51edaa95bc83",
   "metadata": {},
   "source": [
    "## Задание 4\n",
    "Тариф «Доставка» был запущен недавно по всей России. \n",
    "Изучите конверсии в рамках данного тарифа по городам, локализуйте просадку конверсии Order2Ride в рамках данного тарифа и дайте рекомендации отделу операционистов, которые занимаются этим тарифом."
   ]
  },
  {
   "cell_type": "code",
   "execution_count": null,
   "id": "2b58589b-7143-48e9-b5b7-5e5863523e4c",
   "metadata": {},
   "outputs": [],
   "source": [
    "DS.head()"
   ]
  },
  {
   "cell_type": "code",
   "execution_count": null,
   "id": "817b0c53",
   "metadata": {},
   "outputs": [],
   "source": [
    "#Создаем таблицу только с тарифом \"Доставка\"\n",
    "df_de = DS[DS['name_tariff'] == 'Доставка']"
   ]
  },
  {
   "cell_type": "code",
   "execution_count": null,
   "id": "71354a27",
   "metadata": {},
   "outputs": [],
   "source": [
    "#Смотрим на доли кол-ва наблюдений по городам\n",
    "df_de['name_city'].value_counts(normalize=True)"
   ]
  },
  {
   "cell_type": "code",
   "execution_count": null,
   "id": "18cc842b",
   "metadata": {},
   "outputs": [],
   "source": [
    "#Удаляем Краснодар, как город с недостаточным кол-вом наблюдений\n",
    "df_de = df_de[df_de['name_city'] != 'Краснодар']"
   ]
  },
  {
   "cell_type": "code",
   "execution_count": null,
   "id": "50f4ed1f",
   "metadata": {},
   "outputs": [],
   "source": [
    "df_de.head()"
   ]
  },
  {
   "cell_type": "code",
   "execution_count": null,
   "id": "e12cc308",
   "metadata": {},
   "outputs": [],
   "source": [
    "# Группируем по городам звенья воронки\n",
    "\n",
    "df_de_gr = df_de.groupby('name_city').count()[['order_time','assign_time','arrive_time','ride_finish_time']].reset_index()\n",
    "\n",
    "# И создаем столбцы с цепочкой конверсий заказов\n",
    "df_de_gr['o2ass']       = df_de_gr['assign_time']      / df_de_gr['order_time']\n",
    "df_de_gr['ass2arr']     = df_de_gr['arrive_time']      / df_de_gr['assign_time']\n",
    "df_de_gr['arr2r']       = df_de_gr['ride_finish_time'] / df_de_gr['arrive_time']\n",
    "df_de_gr['o2r']         = df_de_gr['ride_finish_time'] / df_de_gr['order_time']"
   ]
  },
  {
   "cell_type": "code",
   "execution_count": null,
   "id": "5dd4c691",
   "metadata": {},
   "outputs": [],
   "source": [
    "# Создаем нижний и верхний показатель доверительного интервала ( 95% ) для конверсий\n",
    "df_de_gr['o2r_upper']     = df_de_gr['o2r'] + 1.96 * (df_de_gr['o2r'] * (1 - df_de_gr['o2r']) / df_de_gr['order_time']).apply(np.sqrt)\n",
    "df_de_gr['o2r_lower']     = df_de_gr['o2r'] - 1.96 * (df_de_gr['o2r'] * (1 - df_de_gr['o2r']) / df_de_gr['order_time']).apply(np.sqrt)\n",
    "\n",
    "df_de_gr['o2ass_upper']   = df_de_gr['o2ass'] + 1.96 * (df_de_gr['o2ass'] * (1 - df_de_gr['o2ass']) / df_de_gr['order_time']).apply(np.sqrt)\n",
    "df_de_gr['o2ass_lower']   = df_de_gr['o2ass'] - 1.96 * (df_de_gr['o2ass'] * (1 - df_de_gr['o2ass']) / df_de_gr['order_time']).apply(np.sqrt)\n",
    "\n",
    "df_de_gr['ass2arr_upper'] = df_de_gr['ass2arr'] + 1.96 * (df_de_gr['ass2arr'] * (1 - df_de_gr['ass2arr']) / df_de_gr['assign_time']).apply(np.sqrt)\n",
    "df_de_gr['ass2arr_lower'] = df_de_gr['ass2arr'] - 1.96 * (df_de_gr['ass2arr'] * (1 - df_de_gr['ass2arr']) / df_de_gr['assign_time']).apply(np.sqrt)\n",
    "\n",
    "df_de_gr['arr2r_upper']   = df_de_gr['arr2r'] + 1.96 * (df_de_gr['arr2r'] * (1 - df_de_gr['arr2r']) / df_de_gr['arrive_time']).apply(np.sqrt)\n",
    "df_de_gr['arr2r_lower']   = df_de_gr['arr2r'] - 1.96 * (df_de_gr['arr2r'] * (1 - df_de_gr['arr2r']) / df_de_gr['arrive_time']).apply(np.sqrt)"
   ]
  },
  {
   "cell_type": "code",
   "execution_count": null,
   "id": "7730de20",
   "metadata": {},
   "outputs": [],
   "source": [
    "# Визуализируем Order to Ride и другие звенья конверсии по городам вместе с доверительными интервалами\n",
    "plt.figure()\n",
    "plt.rcParams[\"figure.figsize\"] = (16,9)\n",
    "\n",
    "steps = {'o2r': 'Order to Ride', 'o2ass':'Order to Assign', 'ass2arr':'Assign to Arrive', 'arr2r':'Arrive to Ride'}\n",
    "for col in steps.keys():\n",
    "    plt.plot(df_de_gr['name_city'], df_de_gr[col], color = 'blue')\n",
    "    plt.plot(df_de_gr['name_city'], df_de_gr[f'{col}_upper'], color = 'yellow', linestyle='--')\n",
    "    plt.plot(df_de_gr['name_city'], df_de_gr[f'{col}_lower'], color = 'yellow', linestyle='--')\n",
    "    plt.xticks(rotation=45)\n",
    "    plt.title(f'Delivery: {steps[col]}')\n",
    "    plt.show()"
   ]
  },
  {
   "cell_type": "code",
   "execution_count": null,
   "id": "781608e5-3fed-4dad-99aa-75c1907a5295",
   "metadata": {},
   "outputs": [],
   "source": [
    "# Для сравнения с другими тарифами создадим доп. столбец.\n",
    "DS['tariff'] = np.where(DS['name_tariff'].isin(['Доставка']), DS['name_tariff'], 'Other')"
   ]
  },
  {
   "cell_type": "code",
   "execution_count": null,
   "id": "28a8d3d9-e1ad-4ef5-a0df-89d6405cc6e3",
   "metadata": {},
   "outputs": [],
   "source": [
    "# Удалим города с недостаточным кол-вом данных \n",
    "df_trf = DS[~DS['name_city'].isin(['Краснодар'])]"
   ]
  },
  {
   "cell_type": "code",
   "execution_count": null,
   "id": "c9981040-afc5-46dd-9f7d-f303f84c22e1",
   "metadata": {},
   "outputs": [],
   "source": [
    "# Группируем звенья воронки по городам и тарифам  \n",
    "df_trf_gr = df_trf.groupby(['name_city', 'tariff']).count()[['order_time', 'assign_time','arrive_time', 'ride_finish_time']].reset_index()"
   ]
  },
  {
   "cell_type": "code",
   "execution_count": null,
   "id": "41d58e82-30cc-40b8-8c3b-44b6f3c96426",
   "metadata": {},
   "outputs": [],
   "source": [
    "# И создаем столбцы с цепочкой конверсий заказов\n",
    "df_trf_gr['o2r']      = df_trf_gr['ride_finish_time'] / df_trf_gr['order_time']\n",
    "df_trf_gr['o2ass']    = df_trf_gr['assign_time']      / df_trf_gr['order_time']\n",
    "df_trf_gr['ass2arr']  = df_trf_gr['arrive_time']      / df_trf_gr['assign_time']\n",
    "df_trf_gr['arr2r']    = df_trf_gr['ride_finish_time'] / df_trf_gr['arrive_time']"
   ]
  },
  {
   "cell_type": "code",
   "execution_count": null,
   "id": "1835f573-7451-4e25-a134-bdbe23aaeb87",
   "metadata": {},
   "outputs": [],
   "source": [
    "#Визуализируем Order to Ride Доставки и Общий  \n",
    "plt.figure(figsize=(16, 9))  \n",
    "plt.title('Сравнение конверсии O2R доставка с O2R общая')  \n",
    "plt.xlabel('City') \n",
    "plt.ylabel('conv') \n",
    "\n",
    "for i in df_trf_gr['tariff'].unique():\n",
    "    \n",
    "    plt.plot(df_trf_gr[df_trf_gr['tariff'] == i]['name_city'], df_trf_gr[df_trf_gr['tariff'] == i]['o2r'], label = f'O2R {i}')\n",
    "\n",
    "plt.legend()\n",
    "plt.show()"
   ]
  },
  {
   "cell_type": "markdown",
   "id": "7d6fd3b3-92e9-4586-b006-3b36e050d444",
   "metadata": {},
   "source": [
    "В общем и целом видим что конверсия по тарифу \"Доставка\" ничем не отличается от других тарифов"
   ]
  },
  {
   "cell_type": "code",
   "execution_count": null,
   "id": "ef75191a-4f17-48f4-961a-62c5c1d6ebaa",
   "metadata": {},
   "outputs": [],
   "source": [
    "#Визуализируем сравнение тарифов по каждому звену конверсии отдельно\n",
    "plt.figure()\n",
    "plt.rcParams[\"figure.figsize\"] = (16,9)\n",
    "\n",
    "steps = {'o2r': 'Order to Ride', 'o2ass':'Order to Assign', 'ass2arr':'Assign to Arrive', 'arr2r':'Arrive to Ride'}\n",
    "for col in steps.keys():\n",
    "    for i in df_trf_gr['tariff'].unique():\n",
    "        plt.plot(df_trf_gr[df_trf_gr['tariff'] == i]['name_city'], df_trf_gr[df_trf_gr['tariff'] == i][col], label = f'O2R {i}')\n",
    "    \n",
    "    \n",
    "    plt.xticks(rotation=45)\n",
    "    plt.legend()\n",
    "    plt.title(f'Delivery: {steps[col]}')\n",
    "    plt.show()"
   ]
  },
  {
   "cell_type": "markdown",
   "id": "6cd17e3b-5cf0-4fa5-ba4d-aae683323e13",
   "metadata": {},
   "source": [
    "Отделу операционистов по \"Доставке\" стоит изучить видимую просадку в звене \"От назчения водителя к его прибытию\" по городам : Питер, Тюмень и Хабаровск.\n",
    "Клиенты чаще отказыватся от назначенной машины.\n",
    "В Тюмене так же нужно обратить внимание на просадку по назначению водителя, возможно нехватает водителей."
   ]
  }
 ],
 "metadata": {
  "kernelspec": {
   "display_name": "Python 3 (ipykernel)",
   "language": "python",
   "name": "python3"
  },
  "language_info": {
   "codemirror_mode": {
    "name": "ipython",
    "version": 3
   },
   "file_extension": ".py",
   "mimetype": "text/x-python",
   "name": "python",
   "nbconvert_exporter": "python",
   "pygments_lexer": "ipython3",
   "version": "3.12.4"
  }
 },
 "nbformat": 4,
 "nbformat_minor": 5
}
